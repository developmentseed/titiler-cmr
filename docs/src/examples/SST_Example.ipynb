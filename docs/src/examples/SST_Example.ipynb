{
 "cells": [
  {
   "cell_type": "markdown",
   "id": "cdeef4c6-75b0-44d9-90d4-c850b5d8908a",
   "metadata": {},
   "source": [
    "# TiTiler-CMR: Sea Surface Temperature Example\n",
    "\n",
    "The MUR SST dataset has daily records for sea surface temperature and ice cover fraction. There is a netcdf file for each record.\n",
    "\n",
    "To run the titiler-cmr service locally you can fire up the docker network with this command:\n",
    "```bash\n",
    "docker compose up\n",
    "```\n",
    "\n",
    "#### Requirements\n",
    "To run some of the chunks in this notebook you will need to install a few packages:\n",
    "- `earthaccess`\n",
    "- `folium`\n",
    "- `httpx`\n",
    "- `xarray`\n",
    "\n",
    "`!pip install folium httpx earthaccess xarray`"
   ]
  },
  {
   "cell_type": "code",
   "execution_count": null,
   "id": "7d015182-5347-437a-8b66-d7d62212f0e3",
   "metadata": {},
   "outputs": [],
   "source": [
    "import json\n",
    "from datetime import datetime, timezone\n",
    "\n",
    "import earthaccess\n",
    "import httpx\n",
    "import xarray as xr\n",
    "from folium import GeoJson, Map, TileLayer\n",
    "\n",
    "# if running titiler-cmr in the docker network\n",
    "titiler_endpoint = \"http://localhost:8081\""
   ]
  },
  {
   "cell_type": "markdown",
   "id": "d375b5b7-9322-4f1e-8859-000ef8ac4898",
   "metadata": {},
   "source": [
    "## Identify the dataset\n",
    "\n",
    "You can find the MUR SST dataset using the `earthaccess.search_datasets` function."
   ]
  },
  {
   "cell_type": "code",
   "execution_count": null,
   "id": "f3fcc9cd-6105-42fc-98bf-2de40910a79c",
   "metadata": {},
   "outputs": [],
   "source": [
    "datasets = earthaccess.search_datasets(doi=\"10.5067/GHGMR-4FJ04\")\n",
    "ds = datasets[0]\n",
    "\n",
    "concept_id = ds[\"meta\"][\"concept-id\"]\n",
    "print(\"Concept-Id: \", concept_id)\n",
    "\n",
    "print(\"Abstract: \", ds[\"umm\"][\"Abstract\"])"
   ]
  },
  {
   "cell_type": "markdown",
   "id": "2a4cffa6-0059-4033-a708-db60d743f0e3",
   "metadata": {},
   "source": [
    "## Examine a granule\n",
    "\n",
    "Each granule contains a single day record for the entire globe and has a single data file.  "
   ]
  },
  {
   "cell_type": "code",
   "execution_count": null,
   "id": "1bde609a-26df-4f35-b7e1-9e1922e87808",
   "metadata": {},
   "outputs": [],
   "source": [
    "results = earthaccess.search_data(\n",
    "    count=1,\n",
    "    concept_id=concept_id,\n",
    "    temporal=(\"2024-10-12\", \"2024-10-13\"),\n",
    ")\n",
    "print(\"Granules:\")\n",
    "print(results)\n",
    "print()\n",
    "print(\"Example of NetCDF URL: \")\n",
    "for link in results[0].data_links(access=\"external\"):\n",
    "    print(link)"
   ]
  },
  {
   "cell_type": "markdown",
   "id": "eaa3f378-95fa-4c5a-9ccb-24b3064fb5a7",
   "metadata": {},
   "source": [
    "## Explore the available variables\n",
    "\n",
    "The NetCDF file can be opened with xarray using the `h5netcdf` engine. When running outside of AWS region us-west-2 you will need to access the data using \"external\" `https` links (rather than \"direct\" `s3` links). Those links will require authentication which is handled by `earthaccess` as long as you have your Earthdata credentials stored in the `~/.netrc` file!"
   ]
  },
  {
   "cell_type": "code",
   "execution_count": null,
   "id": "61ec4071-bf37-421f-bf58-ac399f827052",
   "metadata": {},
   "outputs": [],
   "source": [
    "fs = earthaccess.get_fsspec_https_session()\n",
    "\n",
    "ds = xr.open_dataset(fs.open(results[0].data_links(access=\"external\")[0]), engine=\"h5netcdf\")\n",
    "print(\"Data Variables:\")\n",
    "for var in ds.data_vars:\n",
    "    print(str(var))\n",
    "\n",
    "ds"
   ]
  },
  {
   "cell_type": "markdown",
   "id": "885357ee-af17-4a07-a72e-b2aa7ce6cbed",
   "metadata": {},
   "source": [
    "## Define a query for titiler-cmr\n",
    "\n",
    "To use titiler-cmr's endpoints for a NetCDF dataset like this we need to define a date range for the CMR query and a `variable` to analyze."
   ]
  },
  {
   "cell_type": "code",
   "execution_count": null,
   "id": "d13fbdbc-780c-469f-ad1e-14d622e3abc4",
   "metadata": {},
   "outputs": [],
   "source": [
    "variable = \"sea_ice_fraction\"\n",
    "datetime_range = \"/\".join(\n",
    "    dt.isoformat() for dt in [datetime(2024, 10, 10, tzinfo=timezone.utc), datetime(2024, 10, 11, tzinfo=timezone.utc)]\n",
    ")"
   ]
  },
  {
   "cell_type": "markdown",
   "id": "bfe85de5-b1ed-4561-802b-d0bea58da1cf",
   "metadata": {},
   "source": [
    "## Display tiles in an interactive map\n",
    "\n",
    "The `/tilejson.json` endpoint will provide a parameterized `xyz` tile URL that can be added to an interactive map."
   ]
  },
  {
   "cell_type": "code",
   "execution_count": null,
   "id": "00116c09-f16f-4246-8e52-00ef64579abb",
   "metadata": {},
   "outputs": [],
   "source": [
    "r = httpx.get(\n",
    "    f\"{titiler_endpoint}/WebMercatorQuad/tilejson.json\",\n",
    "    params = (\n",
    "        (\"concept_id\", concept_id),\n",
    "        # Datetime in form of `start_date/end_date`\n",
    "        (\"datetime\", datetime_range),\n",
    "        # titiler-cmr can work with both Zarr and COG dataset\n",
    "        # but we need to tell the endpoints in advance which backend\n",
    "        # to use\n",
    "        (\"backend\", \"xarray\"),\n",
    "        (\"variable\", variable),\n",
    "        # We need to set min/max zoom because we don't want to use lowerzoom level (e.g 0)\n",
    "        # which will results in useless large scale query\n",
    "        (\"minzoom\", 2),\n",
    "        (\"maxzoom\", 13),\n",
    "        (\"rescale\", \"0,1\"),\n",
    "        (\"colormap_name\", \"blues_r\"),\n",
    "    )\n",
    ").json()\n",
    "\n",
    "print(r)"
   ]
  },
  {
   "cell_type": "code",
   "execution_count": null,
   "id": "328f9b97-7067-43d1-a918-62bb6470499c",
   "metadata": {},
   "outputs": [],
   "source": [
    "bounds = r[\"bounds\"]\n",
    "m = Map(\n",
    "    location=(80, -40),\n",
    "    zoom_start=3\n",
    ")\n",
    "\n",
    "TileLayer(\n",
    "    tiles=r[\"tiles\"][0],\n",
    "    opacity=1,\n",
    "    attr=\"NASA\",\n",
    ").add_to(m)\n",
    "m"
   ]
  },
  {
   "cell_type": "markdown",
   "id": "b2a35be0-b281-4a30-82da-635eadf6d94e",
   "metadata": {},
   "source": [
    "## GeoJSON Statistics\n",
    "The `/statistics` endpoint can be used to get summary statistics for a geojson `Feature` or `FeatureCollection`."
   ]
  },
  {
   "cell_type": "code",
   "execution_count": null,
   "id": "06d7ef8e-9410-4b35-9d05-e55b4e4972ba",
   "metadata": {},
   "outputs": [],
   "source": [
    "geojson_dict = {\n",
    "  \"type\": \"FeatureCollection\",\n",
    "  \"features\": [\n",
    "    {\n",
    "      \"type\": \"Feature\",\n",
    "      \"properties\": {},\n",
    "      \"geometry\": {\n",
    "        \"coordinates\": [\n",
    "          [\n",
    "            [\n",
    "              -20.79973248834736,\n",
    "              83.55979308678764\n",
    "            ],\n",
    "            [\n",
    "              -20.79973248834736,\n",
    "              75.0115425216471\n",
    "            ],\n",
    "            [\n",
    "              14.483337068956956,\n",
    "              75.0115425216471\n",
    "            ],\n",
    "            [\n",
    "              14.483337068956956,\n",
    "              83.55979308678764\n",
    "            ],\n",
    "            [\n",
    "              -20.79973248834736,\n",
    "              83.55979308678764\n",
    "            ]\n",
    "          ]\n",
    "        ],\n",
    "        \"type\": \"Polygon\"\n",
    "      }\n",
    "    }\n",
    "  ]\n",
    "}\n",
    "\n",
    "r = httpx.post(\n",
    "    f\"{titiler_endpoint}/statistics\",\n",
    "    params=(\n",
    "        (\"concept_id\", concept_id),\n",
    "        # Datetime in form of `start_date/end_date`\n",
    "        (\"datetime\", datetime_range),\n",
    "        # titiler-cmr can work with both Zarr and COG dataset\n",
    "        # but we need to tell the endpoints in advance which backend\n",
    "        # to use\n",
    "        (\"backend\", \"xarray\"),\n",
    "        (\"variable\", variable),\n",
    "    ),\n",
    "    json=geojson_dict,\n",
    "    timeout=60,\n",
    ").json()\n",
    "\n",
    "print(json.dumps(r, indent=2))"
   ]
  }
 ],
 "metadata": {
  "kernelspec": {
   "display_name": "Python 3 (ipykernel)",
   "language": "python",
   "name": "python3"
  },
  "language_info": {
   "codemirror_mode": {
    "name": "ipython",
    "version": 3
   },
   "file_extension": ".py",
   "mimetype": "text/x-python",
   "name": "python",
   "nbconvert_exporter": "python",
   "pygments_lexer": "ipython3",
   "version": "3.11.9"
  }
 },
 "nbformat": 4,
 "nbformat_minor": 5
}
