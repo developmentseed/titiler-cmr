{
 "cells": [
  {
   "cell_type": "markdown",
   "metadata": {},
   "source": [
    "# TiTiler-CMR: HLS Data Demo\n",
    "\n",
    "#### Requirements\n",
    "- folium\n",
    "- httpx\n",
    "\n",
    "`!pip install folium httpx earthaccess`"
   ]
  },
  {
   "cell_type": "code",
   "execution_count": null,
   "metadata": {},
   "outputs": [],
   "source": [
    "import json\n",
    "import httpx\n",
    "import earthaccess\n",
    "\n",
    "from folium import Map, TileLayer"
   ]
  },
  {
   "cell_type": "code",
   "execution_count": null,
   "metadata": {},
   "outputs": [],
   "source": [
    "titiler_endpoint = \"http://localhost:8000\""
   ]
  },
  {
   "cell_type": "code",
   "execution_count": null,
   "metadata": {},
   "outputs": [],
   "source": [
    "datasets = earthaccess.search_datasets(doi=\"10.5067/HLS/HLSL30.002\")\n",
    "ds = datasets[0]"
   ]
  },
  {
   "cell_type": "code",
   "execution_count": null,
   "metadata": {},
   "outputs": [],
   "source": [
    "concept_id = ds[\"meta\"][\"concept-id\"]\n",
    "print(\"Concept-Id: \", concept_id)"
   ]
  },
  {
   "cell_type": "code",
   "execution_count": null,
   "metadata": {},
   "outputs": [],
   "source": [
    "import earthaccess\n",
    "import morecantile\n",
    "\n",
    "tms = morecantile.tms.get(\"WebMercatorQuad\")\n",
    "\n",
    "bounds = tms.bounds(62, 44, 7)\n",
    "xmin, ymin, xmax, ymax = (round(n, 8) for n in bounds)\n",
    "\n",
    "results = earthaccess.search_data(\n",
    "    bounding_box=(xmin, ymin, xmax, ymax),\n",
    "    count=1,\n",
    "    concept_id=concept_id,\n",
    "    temporal=(\"2024-02-11\", \"2024-02-13\"),\n",
    ")\n",
    "print(\"Granules:\")\n",
    "print(results)\n",
    "print()\n",
    "print(\"Example of COGs URL: \")\n",
    "for link in results[0].data_links(access=\"direct\"):\n",
    "    print(link)\n"
   ]
  },
  {
   "cell_type": "code",
   "execution_count": null,
   "metadata": {},
   "outputs": [],
   "source": [
    "print(results[0])"
   ]
  },
  {
   "cell_type": "code",
   "execution_count": null,
   "metadata": {},
   "outputs": [],
   "source": [
    "from titiler.cmr.backend import CMRBackend\n",
    "from titiler.cmr.reader import MultiFilesBandsReader\n",
    "\n",
    "with CMRBackend(reader=MultiFilesBandsReader) as backend:\n",
    "    assets = backend.assets_for_tile(\n",
    "        x=62,\n",
    "        y=44,\n",
    "        z=7,\n",
    "        bands_regex=\"B[0-9][0-9]\",\n",
    "        concept_id=concept_id,\n",
    "        temporal=(\"2024-02-11\", \"2024-02-13\")\n",
    "    )\n",
    "\n",
    "print(assets[0])"
   ]
  },
  {
   "cell_type": "code",
   "execution_count": null,
   "metadata": {},
   "outputs": [],
   "source": [
    "with CMRBackend() as backend:\n",
    "    assets = backend.assets_for_tile(\n",
    "        x=62,\n",
    "        y=44,\n",
    "        z=7,\n",
    "        bands_regex=\"B[0-9][0-9]\",\n",
    "        concept_id=\"C2021957657-LPCLOUD\",\n",
    "        temporal=(\"2024-02-11\", \"2024-02-13\")\n",
    "    )\n"
   ]
  },
  {
   "cell_type": "code",
   "execution_count": null,
   "metadata": {},
   "outputs": [],
   "source": [
    "from IPython.display import IFrame\n",
    "IFrame(f\"{titiler_endpoint}/api.html\", 900,500)"
   ]
  },
  {
   "cell_type": "code",
   "execution_count": null,
   "metadata": {},
   "outputs": [],
   "source": [
    "r = httpx.get(\n",
    "    f\"{titiler_endpoint}/WebMercatorQuad/tilejson.json\",\n",
    "    params = (\n",
    "        (\"concept_id\", concept_id),\n",
    "        # Datetime in form of `start_date/end_date`\n",
    "        (\"datetime\", \"2024-10-01T00:00:00Z/2024-10-10T23:59:59Z\"),\n",
    "        # We know that the HLS collection dataset is stored as File per Band\n",
    "        # so we need to pass a `band_regex` option to assign `bands` to each URL\n",
    "        (\"bands_regex\", \"B[0-9][0-9]\"),\n",
    "        # titiler-cmr can work with both Zarr and COG dataset\n",
    "        # but we need to tell the endpoints in advance which backend\n",
    "        # to use\n",
    "        (\"backend\", \"rasterio\"),\n",
    "        # True Color Image B04,B03,B02\n",
    "        (\"bands\", \"B04\"),\n",
    "        (\"bands\", \"B03\"),\n",
    "        (\"bands\", \"B02\"),\n",
    "        # The data is in type of Uint16 so we need to apply some\n",
    "        # rescaling/color_formula in order to create PNGs\n",
    "        # (\"rescale\", \"0,1000\"),\n",
    "        (\"color_formula\", \"Gamma RGB 3.5 Saturation 1.7 Sigmoidal RGB 15 0.35\"),\n",
    "        # We need to set min/max zoom because we don't want to use lowerzoom level (e.g 0)\n",
    "        # which will results in useless large scale query\n",
    "        (\"minzoom\", 8),\n",
    "        (\"maxzoom\", 13),\n",
    "    )\n",
    ").json()\n",
    "\n",
    "print(r)"
   ]
  },
  {
   "cell_type": "code",
   "execution_count": null,
   "metadata": {},
   "outputs": [],
   "source": [
    "bounds = r[\"bounds\"]\n",
    "m = Map(\n",
    "    location=(47.590266824611675, -91.03729840730689),\n",
    "    zoom_start=r[\"maxzoom\"] - 3\n",
    ")\n",
    "\n",
    "TileLayer(\n",
    "    tiles=r[\"tiles\"][0],\n",
    "    opacity=1,\n",
    "    attr=\"NASA\",\n",
    ").add_to(m)\n",
    "m"
   ]
  },
  {
   "cell_type": "code",
   "execution_count": null,
   "metadata": {},
   "outputs": [],
   "source": []
  }
 ],
 "metadata": {
  "kernelspec": {
   "display_name": "Python 3 (ipykernel)",
   "language": "python",
   "name": "python3"
  },
  "language_info": {
   "codemirror_mode": {
    "name": "ipython",
    "version": 3
   },
   "file_extension": ".py",
   "mimetype": "text/x-python",
   "name": "python",
   "nbconvert_exporter": "python",
   "pygments_lexer": "ipython3",
   "version": "3.11.9"
  }
 },
 "nbformat": 4,
 "nbformat_minor": 4
}
